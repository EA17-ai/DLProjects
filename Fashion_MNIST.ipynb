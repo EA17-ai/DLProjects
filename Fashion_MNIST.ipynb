{
  "nbformat": 4,
  "nbformat_minor": 0,
  "metadata": {
    "colab": {
      "name": "Fashion MNIST.ipynb",
      "provenance": [],
      "authorship_tag": "ABX9TyOiyQd7HN7rIha+lErr3pRQ",
      "include_colab_link": true
    },
    "kernelspec": {
      "name": "python3",
      "display_name": "Python 3"
    },
    "language_info": {
      "name": "python"
    }
  },
  "cells": [
    {
      "cell_type": "markdown",
      "metadata": {
        "id": "view-in-github",
        "colab_type": "text"
      },
      "source": [
        "<a href=\"https://colab.research.google.com/github/EA17-ai/DLProjects/blob/main/Fashion_MNIST.ipynb\" target=\"_parent\"><img src=\"https://colab.research.google.com/assets/colab-badge.svg\" alt=\"Open In Colab\"/></a>"
      ]
    },
    {
      "cell_type": "code",
      "execution_count": 1,
      "metadata": {
        "id": "Ej_OF6Eq6VUR"
      },
      "outputs": [],
      "source": [
        "import numpy as np\n",
        "import pandas as pd\n",
        "import tensorflow as tf\n",
        "from tensorflow.keras import models,layers\n",
        "import matplotlib.pyplot as plt\n"
      ]
    },
    {
      "cell_type": "code",
      "source": [
        "(X_train,y_train),(X_test,y_test)=tf.keras.datasets.fashion_mnist.load_data()"
      ],
      "metadata": {
        "id": "Pk_EOYIO6rp0"
      },
      "execution_count": 12,
      "outputs": []
    },
    {
      "cell_type": "code",
      "source": [
        "print(len(X_train),X_train.shape)\n",
        "print(len(y_train),y_train.shape)\n",
        "print(len(X_test),X_test.shape)\n",
        "print(len(y_test),y_test.shape)"
      ],
      "metadata": {
        "colab": {
          "base_uri": "https://localhost:8080/"
        },
        "id": "OLXZh8Fd6_ZW",
        "outputId": "ffb925a9-bcd9-485a-f211-afa74e8a66fd"
      },
      "execution_count": 13,
      "outputs": [
        {
          "output_type": "stream",
          "name": "stdout",
          "text": [
            "60000 (60000, 28, 28)\n",
            "60000 (60000,)\n",
            "10000 (10000, 28, 28)\n",
            "10000 (10000,)\n"
          ]
        }
      ]
    },
    {
      "cell_type": "code",
      "source": [
        "for i in range(9):\n",
        "  plt.subplot(3,3,i+1)\n",
        "  plt.imshow(X_train[i],cmap=plt.get_cmap(\"gray\"))\n",
        "  plt.title(y_train[i])\n",
        "  plt.axis(\"off\")"
      ],
      "metadata": {
        "id": "NSgfVNF77Im5"
      },
      "execution_count": null,
      "outputs": []
    },
    {
      "cell_type": "code",
      "source": [
        "\n",
        "# reshape dataset to have a single channel\n",
        "X_train_flattened = X_train.reshape((X_train.shape[0], 28,28,1))/255\n",
        "X_test_flattened = X_test.reshape((X_test.shape[0], 28,28,1))/255"
      ],
      "metadata": {
        "id": "-u2NzVdJ8P9X"
      },
      "execution_count": 21,
      "outputs": []
    },
    {
      "cell_type": "code",
      "source": [
        "X_train_flattened.shape"
      ],
      "metadata": {
        "colab": {
          "base_uri": "https://localhost:8080/"
        },
        "id": "8vAwfidg9PJc",
        "outputId": "c913758c-35c3-4596-9cf0-24dfb46ba5f2"
      },
      "execution_count": 22,
      "outputs": [
        {
          "output_type": "execute_result",
          "data": {
            "text/plain": [
              "(60000, 28, 28, 1)"
            ]
          },
          "metadata": {},
          "execution_count": 22
        }
      ]
    },
    {
      "cell_type": "code",
      "source": [
        "model=tf.keras.Sequential([\n",
        "     tf.keras.layers.Conv2D(32,(3,3),input_shape=(28,28,1),activation=\"relu\",padding=\"same\"),\n",
        "     tf.keras.layers.MaxPooling2D((2,2)),\n",
        "     tf.keras.layers.Flatten(),\n",
        "     tf.keras.layers.Dense(32,activation=\"relu\"),\n",
        "     tf.keras.layers.Dense(10,activation=\"softmax\")\n",
        "    ]\n",
        ")\n",
        "\n",
        "model.compile(optimizer=\"adam\",loss=\"sparse_categorical_crossentropy\",metrics=[\"accuracy\"])\n",
        "model.fit(x=X_train_flattened,y=y_train,epochs=10,verbose=1)"
      ],
      "metadata": {
        "colab": {
          "base_uri": "https://localhost:8080/"
        },
        "id": "G2nO3HPG-zqO",
        "outputId": "136c7cde-18ce-4367-9593-2210ca5469f0"
      },
      "execution_count": 23,
      "outputs": [
        {
          "output_type": "stream",
          "name": "stdout",
          "text": [
            "Epoch 1/10\n",
            "1875/1875 [==============================] - 65s 34ms/step - loss: 0.4195 - accuracy: 0.8511\n",
            "Epoch 2/10\n",
            "1875/1875 [==============================] - 44s 23ms/step - loss: 0.2899 - accuracy: 0.8970\n",
            "Epoch 3/10\n",
            "1875/1875 [==============================] - 31s 17ms/step - loss: 0.2544 - accuracy: 0.9089\n",
            "Epoch 4/10\n",
            "1875/1875 [==============================] - 31s 17ms/step - loss: 0.2272 - accuracy: 0.9174\n",
            "Epoch 5/10\n",
            "1875/1875 [==============================] - 30s 16ms/step - loss: 0.2072 - accuracy: 0.9238\n",
            "Epoch 6/10\n",
            "1875/1875 [==============================] - 33s 17ms/step - loss: 0.1901 - accuracy: 0.9301\n",
            "Epoch 7/10\n",
            "1875/1875 [==============================] - 34s 18ms/step - loss: 0.1727 - accuracy: 0.9366\n",
            "Epoch 8/10\n",
            "1875/1875 [==============================] - 35s 19ms/step - loss: 0.1592 - accuracy: 0.9416\n",
            "Epoch 9/10\n",
            "1875/1875 [==============================] - 35s 19ms/step - loss: 0.1438 - accuracy: 0.9480\n",
            "Epoch 10/10\n",
            "1875/1875 [==============================] - 31s 16ms/step - loss: 0.1350 - accuracy: 0.9505\n"
          ]
        },
        {
          "output_type": "execute_result",
          "data": {
            "text/plain": [
              "<keras.callbacks.History at 0x7f84cfaad950>"
            ]
          },
          "metadata": {},
          "execution_count": 23
        }
      ]
    },
    {
      "cell_type": "code",
      "source": [
        "classnames={0:\"T-shirt/top\",\n",
        "1\t:\"Trouser\",\n",
        "2\t:\"Pullover\",\n",
        "3\t:\"Dress\",\n",
        "4\t:\"Coat\",\n",
        "5\t:\"Sandal\",\n",
        "6\t:\"Shirt\",\n",
        "7\t:\"Sneaker\",\n",
        "8\t:\"Bag\",\n",
        "9\t:\"Ankle boot\"}"
      ],
      "metadata": {
        "id": "3uY_p4e3BSqh"
      },
      "execution_count": 24,
      "outputs": []
    },
    {
      "cell_type": "code",
      "source": [
        "y_pred=model.predict(X_test)"
      ],
      "metadata": {
        "id": "XmNaOJCcB7Mi"
      },
      "execution_count": 42,
      "outputs": []
    },
    {
      "cell_type": "code",
      "source": [
        "y_pred"
      ],
      "metadata": {
        "colab": {
          "base_uri": "https://localhost:8080/"
        },
        "id": "6-05yd5sDwsX",
        "outputId": "a36b1f2c-458d-4261-efe0-f350d3844735"
      },
      "execution_count": 43,
      "outputs": [
        {
          "output_type": "execute_result",
          "data": {
            "text/plain": [
              "array([[0., 0., 0., ..., 0., 0., 1.],\n",
              "       [0., 0., 1., ..., 0., 0., 0.],\n",
              "       [0., 1., 0., ..., 0., 0., 0.],\n",
              "       ...,\n",
              "       [0., 0., 0., ..., 0., 1., 0.],\n",
              "       [0., 1., 0., ..., 0., 0., 0.],\n",
              "       [0., 0., 0., ..., 0., 0., 0.]], dtype=float32)"
            ]
          },
          "metadata": {},
          "execution_count": 43
        }
      ]
    },
    {
      "cell_type": "code",
      "source": [
        "y_pred=[np.argmax(i) for i in y_pred]"
      ],
      "metadata": {
        "id": "DlBa1e1iCmPC"
      },
      "execution_count": 44,
      "outputs": []
    },
    {
      "cell_type": "code",
      "source": [
        "conf_mat=tf.math.confusion_matrix(y_test,y_pred)"
      ],
      "metadata": {
        "id": "TCy1-lFECXxX"
      },
      "execution_count": 45,
      "outputs": []
    },
    {
      "cell_type": "code",
      "source": [
        "conf_mat"
      ],
      "metadata": {
        "colab": {
          "base_uri": "https://localhost:8080/"
        },
        "id": "rpw8Ly7dDa7b",
        "outputId": "703475e2-f352-4cfa-8893-190d3519e9f5"
      },
      "execution_count": 46,
      "outputs": [
        {
          "output_type": "execute_result",
          "data": {
            "text/plain": [
              "<tf.Tensor: shape=(10, 10), dtype=int32, numpy=\n",
              "array([[755,   7,  27,  24,  17,   0, 140,   0,  30,   0],\n",
              "       [  0, 986,   0,   4,   6,   0,   2,   0,   2,   0],\n",
              "       [ 16,   1, 533,   6, 323,   0, 114,   0,   7,   0],\n",
              "       [ 21,  63,  11, 788,  65,   0,  33,   0,  18,   1],\n",
              "       [  1,   1,   3,  14, 955,   0,  20,   0,   6,   0],\n",
              "       [  1,   0,   0,   0,   0, 980,   0,   8,   1,  10],\n",
              "       [ 57,   3,  18,  16, 201,   0, 685,   0,  20,   0],\n",
              "       [  0,   0,   0,   0,   0,  26,   0, 925,   2,  47],\n",
              "       [  2,   1,   1,   5,   3,   0,   1,   1, 986,   0],\n",
              "       [  0,   0,   0,   0,   0,  15,   0,  24,   1, 960]], dtype=int32)>"
            ]
          },
          "metadata": {},
          "execution_count": 46
        }
      ]
    },
    {
      "cell_type": "code",
      "source": [
        "import seaborn as sb\n",
        "plt.figure(figsize=(10,7))\n",
        "sb.heatmap(conf_mat,annot=True,fmt=\"d\")\n",
        "plt.xlabel(\"Predicted\")\n",
        "plt.ylabel(\"Truth\")"
      ],
      "metadata": {
        "colab": {
          "base_uri": "https://localhost:8080/",
          "height": 459
        },
        "id": "6B8CQWE5Dn5S",
        "outputId": "af46c7a5-4794-4acd-a11a-c4e157a633d2"
      },
      "execution_count": 47,
      "outputs": [
        {
          "output_type": "execute_result",
          "data": {
            "text/plain": [
              "Text(69.0, 0.5, 'Truth')"
            ]
          },
          "metadata": {},
          "execution_count": 47
        },
        {
          "output_type": "display_data",
          "data": {
            "text/plain": [
              "<Figure size 720x504 with 2 Axes>"
            ],
            "image/png": "[encoded data removed]"
          },
          "metadata": {
            "needs_background": "light"
          }
        }
      ]
    },
    {
      "cell_type": "code",
      "source": [
        "model.evaluate(X_test_flattened,y_test)"
      ],
      "metadata": {
        "colab": {
          "base_uri": "https://localhost:8080/"
        },
        "id": "XCGfN_5HEY10",
        "outputId": "ac57a79e-f4db-4a47-e4ca-82924eeb269e"
      },
      "execution_count": 49,
      "outputs": [
        {
          "output_type": "stream",
          "name": "stdout",
          "text": [
            "313/313 [==============================] - 4s 11ms/step - loss: 0.2835 - accuracy: 0.9090\n"
          ]
        },
        {
          "output_type": "execute_result",
          "data": {
            "text/plain": [
              "[0.2834652364253998, 0.9089999794960022]"
            ]
          },
          "metadata": {},
          "execution_count": 49
        }
      ]
    }
  ]
}