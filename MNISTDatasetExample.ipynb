{
  "nbformat": 4,
  "nbformat_minor": 0,
  "metadata": {
    "colab": {
      "name": "MNISTDatasetExample.ipynb",
      "provenance": [],
      "collapsed_sections": []
    },
    "kernelspec": {
      "name": "python3",
      "display_name": "Python 3"
    },
    "language_info": {
      "name": "python"
    }
  },
  "cells": [
    {
      "cell_type": "code",
      "execution_count": 2,
      "metadata": {
        "id": "tWLHO_QGm_k0"
      },
      "outputs": [],
      "source": [
        "import tensorflow\n",
        "from tensorflow import keras\n",
        "import matplotlib.pyplot as plt\n",
        "%matplotlib inline"
      ]
    },
    {
      "cell_type": "code",
      "source": [
        "(X_train,y_train),(X_test,y_test)=keras.datasets.mnist.load_data()"
      ],
      "metadata": {
        "id": "E-1ce5BGnL4Y"
      },
      "execution_count": null,
      "outputs": []
    },
    {
      "cell_type": "code",
      "source": [
        "len(X_train)"
      ],
      "metadata": {
        "colab": {
          "base_uri": "https://localhost:8080/"
        },
        "id": "kkiGB8GloF-X",
        "outputId": "556d835f-8b59-4792-d698-2e77af92bd41"
      },
      "execution_count": 4,
      "outputs": [
        {
          "output_type": "execute_result",
          "data": {
            "text/plain": [
              "60000"
            ]
          },
          "metadata": {},
          "execution_count": 4
        }
      ]
    },
    {
      "cell_type": "code",
      "source": [
        "len(X_test)"
      ],
      "metadata": {
        "colab": {
          "base_uri": "https://localhost:8080/"
        },
        "id": "whcuz7PYoJ83",
        "outputId": "f7ea6b15-feb6-484e-c94d-5222848a6847"
      },
      "execution_count": 5,
      "outputs": [
        {
          "output_type": "execute_result",
          "data": {
            "text/plain": [
              "10000"
            ]
          },
          "metadata": {},
          "execution_count": 5
        }
      ]
    },
    {
      "cell_type": "code",
      "source": [
        "plt.imshow(X_train[1])\n",
        "plt.ylabel(y_train[1])"
      ],
      "metadata": {
        "colab": {
          "base_uri": "https://localhost:8080/",
          "height": 283
        },
        "id": "2LMgFMH7ndgn",
        "outputId": "e3f4d89a-8b7a-4ea4-880f-11eb2dd73c06"
      },
      "execution_count": 6,
      "outputs": [
        {
          "output_type": "execute_result",
          "data": {
            "text/plain": [
              "Text(0, 0.5, '0')"
            ]
          },
          "metadata": {},
          "execution_count": 6
        },
        {
          "output_type": "display_data",
          "data": {
            "text/plain": [
              "<Figure size 432x288 with 1 Axes>"
            ],
            "image/png": "[encoded data removed]"
          },
          "metadata": {
            "needs_background": "light"
          }
        }
      ]
    },
    {
      "cell_type": "code",
      "source": [
        "plt.imshow(X_test[1])\n",
        "plt.ylabel(y_test[1])"
      ],
      "metadata": {
        "colab": {
          "base_uri": "https://localhost:8080/",
          "height": 283
        },
        "id": "uqATjd36n8pL",
        "outputId": "d9da6a67-2e04-4e46-f9f9-6a8daca17ff4"
      },
      "execution_count": 7,
      "outputs": [
        {
          "output_type": "execute_result",
          "data": {
            "text/plain": [
              "Text(0, 0.5, '2')"
            ]
          },
          "metadata": {},
          "execution_count": 7
        },
        {
          "output_type": "display_data",
          "data": {
            "text/plain": [
              "<Figure size 432x288 with 1 Axes>"
            ],
            "image/png": "[encoded data removed]"
          },
          "metadata": {
            "needs_background": "light"
          }
        }
      ]
    },
    {
      "cell_type": "code",
      "source": [
        "no_of_images,l,w=X_train.shape"
      ],
      "metadata": {
        "id": "_v5EIKV0opsC"
      },
      "execution_count": 8,
      "outputs": []
    },
    {
      "cell_type": "code",
      "source": [
        "X_train_reshaped=X_train.reshape(len(X_train),l*w)\n",
        "X_train_reshaped=X_train_reshaped/255 \n"
      ],
      "metadata": {
        "id": "ArJgSNW3oR9d"
      },
      "execution_count": 9,
      "outputs": []
    },
    {
      "cell_type": "code",
      "source": [
        "X_train_reshaped.shape"
      ],
      "metadata": {
        "colab": {
          "base_uri": "https://localhost:8080/"
        },
        "id": "bRA5xD-ro0rl",
        "outputId": "1e4f3986-fdaa-455e-872a-22fe84f988bc"
      },
      "execution_count": 10,
      "outputs": [
        {
          "output_type": "execute_result",
          "data": {
            "text/plain": [
              "(60000, 784)"
            ]
          },
          "metadata": {},
          "execution_count": 10
        }
      ]
    },
    {
      "cell_type": "code",
      "source": [
        "X_test_reshaped=X_test.reshape(len(X_test),l*w)\n",
        "X_test_reshaped=X_test_reshaped/255 \n"
      ],
      "metadata": {
        "id": "XRdj8V9lo-Dz"
      },
      "execution_count": 11,
      "outputs": []
    },
    {
      "cell_type": "code",
      "source": [
        "X_test_reshaped.shape"
      ],
      "metadata": {
        "colab": {
          "base_uri": "https://localhost:8080/"
        },
        "id": "QFRH2q-0pFgP",
        "outputId": "f6ca7ce0-7d62-4b36-9727-0448327ed7fb"
      },
      "execution_count": 12,
      "outputs": [
        {
          "output_type": "execute_result",
          "data": {
            "text/plain": [
              "(10000, 784)"
            ]
          },
          "metadata": {},
          "execution_count": 12
        }
      ]
    },
    {
      "cell_type": "code",
      "source": [
        "model=keras.Sequential(\n",
        "    [\n",
        "     keras.layers.Dense(10,input_shape=(784,),activation=\"sigmoid\")\n",
        "    ]\n",
        ")"
      ],
      "metadata": {
        "id": "AxPaKZmKpSHD"
      },
      "execution_count": 13,
      "outputs": []
    },
    {
      "cell_type": "code",
      "source": [
        "model.compile(optimizer=\"adam\",\n",
        "              loss=\"sparse_categorical_crossentropy\",\n",
        "              metrics=[\"accuracy\"])"
      ],
      "metadata": {
        "id": "jbEtr3NrqENm"
      },
      "execution_count": 14,
      "outputs": []
    },
    {
      "cell_type": "code",
      "source": [
        "model.fit(x=X_train_reshaped,y=y_train,epochs=5)"
      ],
      "metadata": {
        "colab": {
          "base_uri": "https://localhost:8080/"
        },
        "id": "gSTFBX3KqpKV",
        "outputId": "3168bfd8-59ca-4302-a579-49b55a91421b"
      },
      "execution_count": 15,
      "outputs": [
        {
          "output_type": "stream",
          "name": "stdout",
          "text": [
            "Epoch 1/5\n",
            "1875/1875 [==============================] - 4s 2ms/step - loss: 0.4637 - accuracy: 0.8800\n",
            "Epoch 2/5\n",
            "1875/1875 [==============================] - 4s 2ms/step - loss: 0.3028 - accuracy: 0.9161\n",
            "Epoch 3/5\n",
            "1875/1875 [==============================] - 4s 2ms/step - loss: 0.2832 - accuracy: 0.9212\n",
            "Epoch 4/5\n",
            "1875/1875 [==============================] - 4s 2ms/step - loss: 0.2733 - accuracy: 0.9233\n",
            "Epoch 5/5\n",
            "1875/1875 [==============================] - 3s 2ms/step - loss: 0.2669 - accuracy: 0.9255\n"
          ]
        },
        {
          "output_type": "execute_result",
          "data": {
            "text/plain": [
              "<keras.callbacks.History at 0x7f477cd10bd0>"
            ]
          },
          "metadata": {},
          "execution_count": 15
        }
      ]
    },
    {
      "cell_type": "code",
      "source": [
        "model.evaluate(X_test_reshaped,y_test)"
      ],
      "metadata": {
        "colab": {
          "base_uri": "https://localhost:8080/"
        },
        "id": "kdk0JmIpAj4M",
        "outputId": "4fd3bed4-d9b8-4fd2-bc65-cb7aa2b1b7cd"
      },
      "execution_count": 16,
      "outputs": [
        {
          "output_type": "stream",
          "name": "stdout",
          "text": [
            "313/313 [==============================] - 1s 2ms/step - loss: 0.2675 - accuracy: 0.9252\n"
          ]
        },
        {
          "output_type": "execute_result",
          "data": {
            "text/plain": [
              "[0.26750215888023376, 0.9251999855041504]"
            ]
          },
          "metadata": {},
          "execution_count": 16
        }
      ]
    },
    {
      "cell_type": "code",
      "source": [
        "y_pred=model.predict(X_test_reshaped)"
      ],
      "metadata": {
        "id": "yV_8mledA_iZ"
      },
      "execution_count": 23,
      "outputs": []
    },
    {
      "cell_type": "code",
      "source": [
        "import numpy as np\n",
        "plt.imshow(X_test[10])\n",
        "plt.xlabel(np.argmax(y_pred[10]))"
      ],
      "metadata": {
        "colab": {
          "base_uri": "https://localhost:8080/",
          "height": 297
        },
        "id": "iJmrJMKjAs1u",
        "outputId": "0be7535b-f23b-4431-a498-b18c2b881180"
      },
      "execution_count": 27,
      "outputs": [
        {
          "output_type": "execute_result",
          "data": {
            "text/plain": [
              "Text(0.5, 0, '0')"
            ]
          },
          "metadata": {},
          "execution_count": 27
        },
        {
          "output_type": "display_data",
          "data": {
            "text/plain": [
              "<Figure size 432x288 with 1 Axes>"
            ],
            "image/png": "[encoded data removed]"
          },
          "metadata": {
            "needs_background": "light"
          }
        }
      ]
    },
    {
      "cell_type": "code",
      "source": [
        "y_predicted=[np.argmax(i) for i in y_pred]"
      ],
      "metadata": {
        "id": "mq_-DlwdDyzm"
      },
      "execution_count": 28,
      "outputs": []
    },
    {
      "cell_type": "code",
      "source": [
        "tensorflow.math.confusion_matrix(labels=y_test,predictions=y_predicted)"
      ],
      "metadata": {
        "colab": {
          "base_uri": "https://localhost:8080/"
        },
        "id": "k0jq1VBRDfLy",
        "outputId": "f19579b9-0f14-42ec-f68f-97e3067760d4"
      },
      "execution_count": 29,
      "outputs": [
        {
          "output_type": "execute_result",
          "data": {
            "text/plain": [
              "<tf.Tensor: shape=(10, 10), dtype=int32, numpy=\n",
              "array([[ 958,    0,    1,    2,    0,    5,    8,    3,    2,    1],\n",
              "       [   0, 1117,    3,    2,    0,    1,    4,    2,    6,    0],\n",
              "       [   7,   11,  914,   18,    9,    4,   13,   11,   40,    5],\n",
              "       [   1,    1,   18,  931,    2,   18,    3,   10,   18,    8],\n",
              "       [   1,    2,    3,    1,  925,    0,   11,    4,    6,   29],\n",
              "       [   7,    3,    2,   40,   11,  770,   15,    8,   29,    7],\n",
              "       [  10,    3,    5,    1,    8,   14,  913,    2,    2,    0],\n",
              "       [   1,    7,   21,    7,    8,    0,    0,  948,    2,   34],\n",
              "       [   5,   12,    5,   22,   10,   25,    9,   12,  861,   13],\n",
              "       [  11,    7,    1,   10,   35,    7,    0,   20,    3,  915]],\n",
              "      dtype=int32)>"
            ]
          },
          "metadata": {},
          "execution_count": 29
        }
      ]
    },
    {
      "cell_type": "code",
      "source": [
        "model_2=keras.Sequential([\n",
        "     keras.layers.Dense(100,input_shape=(784,),activation=\"relu\"),\n",
        "     keras.layers.Dense(10,activation=\"sigmoid\")\n",
        "     ])\n",
        "model_2.compile(optimizer=\"adam\",\n",
        "              loss=\"sparse_categorical_crossentropy\",\n",
        "              metrics=[\"accuracy\"])\n",
        "model_2.fit(X_train_reshaped,y_train,epochs=5)"
      ],
      "metadata": {
        "colab": {
          "base_uri": "https://localhost:8080/"
        },
        "id": "qWiA8vHhEZ1m",
        "outputId": "a649f6b8-e2d9-4a8b-bcee-b66bb52aa0b8"
      },
      "execution_count": 31,
      "outputs": [
        {
          "output_type": "stream",
          "name": "stdout",
          "text": [
            "Epoch 1/5\n",
            "1875/1875 [==============================] - 6s 3ms/step - loss: 0.2730 - accuracy: 0.9222\n",
            "Epoch 2/5\n",
            "1875/1875 [==============================] - 5s 3ms/step - loss: 0.1217 - accuracy: 0.9640\n",
            "Epoch 3/5\n",
            "1875/1875 [==============================] - 5s 3ms/step - loss: 0.0847 - accuracy: 0.9743\n",
            "Epoch 4/5\n",
            "1875/1875 [==============================] - 5s 3ms/step - loss: 0.0654 - accuracy: 0.9799\n",
            "Epoch 5/5\n",
            "1875/1875 [==============================] - 7s 4ms/step - loss: 0.0508 - accuracy: 0.9844\n"
          ]
        },
        {
          "output_type": "execute_result",
          "data": {
            "text/plain": [
              "<keras.callbacks.History at 0x7f4778006c10>"
            ]
          },
          "metadata": {},
          "execution_count": 31
        }
      ]
    },
    {
      "cell_type": "code",
      "source": [
        ""
      ],
      "metadata": {
        "id": "G2PXKDI8GmfG"
      },
      "execution_count": null,
      "outputs": []
    },
    {
      "cell_type": "code",
      "source": [
        "model_2.evaluate(X_test_reshaped,y_test)"
      ],
      "metadata": {
        "colab": {
          "base_uri": "https://localhost:8080/"
        },
        "id": "YmEXomKwFuWV",
        "outputId": "2b238c8b-8804-4786-d129-fe3d782bb81e"
      },
      "execution_count": 32,
      "outputs": [
        {
          "output_type": "stream",
          "name": "stdout",
          "text": [
            "313/313 [==============================] - 1s 3ms/step - loss: 0.0800 - accuracy: 0.9750\n"
          ]
        },
        {
          "output_type": "execute_result",
          "data": {
            "text/plain": [
              "[0.08003824204206467, 0.9750000238418579]"
            ]
          },
          "metadata": {},
          "execution_count": 32
        }
      ]
    },
    {
      "cell_type": "code",
      "source": [
        "y_pred2=model.predict(X_test_reshaped)"
      ],
      "metadata": {
        "id": "jlBT8uqHF6B9"
      },
      "execution_count": 33,
      "outputs": []
    },
    {
      "cell_type": "code",
      "source": [
        "y_predicted2=[np.argmax(i) for i in y_pred2]"
      ],
      "metadata": {
        "id": "SC4S-jxuGMwx"
      },
      "execution_count": 34,
      "outputs": []
    },
    {
      "cell_type": "code",
      "source": [
        "tensorflow.math.confusion_matrix(labels=y_test,predictions=y_predicted2)"
      ],
      "metadata": {
        "colab": {
          "base_uri": "https://localhost:8080/"
        },
        "id": "W9y8ordvGFnA",
        "outputId": "50956022-3f53-4e6e-d2df-75ccd53f579a"
      },
      "execution_count": 35,
      "outputs": [
        {
          "output_type": "execute_result",
          "data": {
            "text/plain": [
              "<tf.Tensor: shape=(10, 10), dtype=int32, numpy=\n",
              "array([[ 958,    0,    1,    2,    0,    5,    8,    3,    2,    1],\n",
              "       [   0, 1117,    3,    2,    0,    1,    4,    2,    6,    0],\n",
              "       [   7,   11,  914,   18,    9,    4,   13,   11,   40,    5],\n",
              "       [   1,    1,   18,  931,    2,   18,    3,   10,   18,    8],\n",
              "       [   1,    2,    3,    1,  925,    0,   11,    4,    6,   29],\n",
              "       [   7,    3,    2,   40,   11,  770,   15,    8,   29,    7],\n",
              "       [  10,    3,    5,    1,    8,   14,  913,    2,    2,    0],\n",
              "       [   1,    7,   21,    7,    8,    0,    0,  948,    2,   34],\n",
              "       [   5,   12,    5,   22,   10,   25,    9,   12,  861,   13],\n",
              "       [  11,    7,    1,   10,   35,    7,    0,   20,    3,  915]],\n",
              "      dtype=int32)>"
            ]
          },
          "metadata": {},
          "execution_count": 35
        }
      ]
    },
    {
      "cell_type": "code",
      "source": [
        "X_train=X_train/255\n",
        "X_test=X_test/255"
      ],
      "metadata": {
        "id": "yk5Pbq66G7Uc"
      },
      "execution_count": 36,
      "outputs": []
    },
    {
      "cell_type": "code",
      "source": [
        "model_3=keras.Sequential([\n",
        "     keras.layers.Flatten(input_shape=(28,28)),                     \n",
        "     keras.layers.Dense(100,activation=\"relu\"),\n",
        "     keras.layers.Dense(10,activation=\"sigmoid\")\n",
        "     ])\n",
        "model_3.compile(optimizer=\"adam\",\n",
        "              loss=\"sparse_categorical_crossentropy\",\n",
        "              metrics=[\"accuracy\"])\n",
        "model_3.fit(X_train,y_train,epochs=5)"
      ],
      "metadata": {
        "colab": {
          "base_uri": "https://localhost:8080/"
        },
        "id": "z6L1bhHUGnmW",
        "outputId": "19efe5ed-d168-49d1-c116-24ae71c312a5"
      },
      "execution_count": 37,
      "outputs": [
        {
          "output_type": "stream",
          "name": "stdout",
          "text": [
            "Epoch 1/5\n",
            "1875/1875 [==============================] - 6s 3ms/step - loss: 0.2727 - accuracy: 0.9224\n",
            "Epoch 2/5\n",
            "1875/1875 [==============================] - 5s 3ms/step - loss: 0.1248 - accuracy: 0.9632\n",
            "Epoch 3/5\n",
            "1875/1875 [==============================] - 5s 3ms/step - loss: 0.0862 - accuracy: 0.9732\n",
            "Epoch 4/5\n",
            "1875/1875 [==============================] - 5s 3ms/step - loss: 0.0655 - accuracy: 0.9802\n",
            "Epoch 5/5\n",
            "1875/1875 [==============================] - 5s 3ms/step - loss: 0.0506 - accuracy: 0.9845\n"
          ]
        },
        {
          "output_type": "execute_result",
          "data": {
            "text/plain": [
              "<keras.callbacks.History at 0x7f4777ebe9d0>"
            ]
          },
          "metadata": {},
          "execution_count": 37
        }
      ]
    }
  ]
}