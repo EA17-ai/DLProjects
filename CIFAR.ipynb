{
  "cells": [
    {
      "cell_type": "markdown",
      "metadata": {
        "id": "view-in-github",
        "colab_type": "text"
      },
      "source": [
        "<a href=\"https://colab.research.google.com/github/EA17-ai/DLProjects/blob/main/CIFAR.ipynb\" target=\"_parent\"><img src=\"https://colab.research.google.com/assets/colab-badge.svg\" alt=\"Open In Colab\"/></a>"
      ]
    },
    {
      "cell_type": "markdown",
      "metadata": {
        "id": "D8NFEjuqMjOi"
      },
      "source": [
        "**Import Required Modules**"
      ]
    },
    {
      "cell_type": "code",
      "execution_count": null,
      "metadata": {
        "id": "b4uCXY0CI6qR"
      },
      "outputs": [],
      "source": [
        "import tensorflow as tf\n",
        "from tensorflow import keras\n",
        "import numpy\n",
        "import matplotlib.pyplot as plt\n",
        "%matplotlib inline"
      ]
    },
    {
      "cell_type": "markdown",
      "metadata": {
        "id": "I2bT3SZVMuUg"
      },
      "source": [
        "**Load CiFar-10 Dataset**"
      ]
    },
    {
      "cell_type": "code",
      "execution_count": null,
      "metadata": {
        "colab": {
          "base_uri": "https://localhost:8080/"
        },
        "id": "d1uiFQT-JOis",
        "outputId": "7a62ec00-d9bb-4652-929a-7216a4b11301"
      },
      "outputs": [
        {
          "name": "stdout",
          "output_type": "stream",
          "text": [
            "Downloading data from https://www.cs.toronto.edu/~kriz/cifar-10-python.tar.gz\n",
            "170500096/170498071 [==============================] - 11s 0us/step\n",
            "170508288/170498071 [==============================] - 11s 0us/step\n"
          ]
        }
      ],
      "source": [
        "(X_train,y_train),(X_test,y_test)=tf.keras.datasets.cifar10.load_data()"
      ]
    },
    {
      "cell_type": "code",
      "execution_count": null,
      "metadata": {
        "colab": {
          "base_uri": "https://localhost:8080/"
        },
        "id": "B9L44JVEJt_c",
        "outputId": "fe371f67-465a-49c1-d539-a4fc0292f86b"
      },
      "outputs": [
        {
          "data": {
            "text/plain": [
              "50000"
            ]
          },
          "execution_count": 3,
          "metadata": {},
          "output_type": "execute_result"
        }
      ],
      "source": [
        "len(X_train)"
      ]
    },
    {
      "cell_type": "code",
      "execution_count": null,
      "metadata": {
        "colab": {
          "base_uri": "https://localhost:8080/"
        },
        "id": "nP_aVoupJx3B",
        "outputId": "826b6e1d-8a88-4720-b3f0-8e2eae2d0cd8"
      },
      "outputs": [
        {
          "data": {
            "text/plain": [
              "10000"
            ]
          },
          "execution_count": 4,
          "metadata": {},
          "output_type": "execute_result"
        }
      ],
      "source": [
        "len(X_test)"
      ]
    },
    {
      "cell_type": "markdown",
      "metadata": {
        "id": "XIZ1LVzSM7JT"
      },
      "source": [
        "**Add classes**"
      ]
    },
    {
      "cell_type": "code",
      "execution_count": null,
      "metadata": {
        "id": "-_8Km0hQKOqu"
      },
      "outputs": [],
      "source": [
        "y_values=[\"aeroplane\",\"automobile\",\"bird\",\"cat\",\"deer\",\"dog\",\"frog\",\"horse\",\"ship\",\"truck\"]"
      ]
    },
    {
      "cell_type": "code",
      "execution_count": null,
      "metadata": {
        "colab": {
          "base_uri": "https://localhost:8080/",
          "height": 297
        },
        "id": "mBX9Mo-4J2Me",
        "outputId": "8bab387f-3b8d-49ee-baba-e8239f2b7799"
      },
      "outputs": [
        {
          "data": {
            "text/plain": [
              "Text(0.5, 0, 'frog')"
            ]
          },
          "execution_count": 6,
          "metadata": {},
          "output_type": "execute_result"
        },
        {
          "data": {
            "image/png": "[encoded data removed]",
            "text/plain": [
              "<Figure size 432x288 with 1 Axes>"
            ]
          },
          "metadata": {},
          "output_type": "display_data"
        }
      ],
      "source": [
        "plt.imshow(X_train[0])\n",
        "plt.xlabel(y_values[int(y_train[0])])"
      ]
    },
    {
      "cell_type": "code",
      "execution_count": null,
      "metadata": {
        "colab": {
          "base_uri": "https://localhost:8080/"
        },
        "id": "Q-qyO7xCJ3BX",
        "outputId": "989d5b63-ab03-44c2-9932-8d27d3cf4b9d"
      },
      "outputs": [
        {
          "data": {
            "text/plain": [
              "(50000, 32, 32, 3)"
            ]
          },
          "execution_count": 7,
          "metadata": {},
          "output_type": "execute_result"
        }
      ],
      "source": [
        "X_train.shape"
      ]
    },
    {
      "cell_type": "code",
      "execution_count": null,
      "metadata": {
        "colab": {
          "base_uri": "https://localhost:8080/"
        },
        "id": "CiIdyeRLK7EK",
        "outputId": "c240a522-742b-4c9f-da82-9457f529558e"
      },
      "outputs": [
        {
          "data": {
            "text/plain": [
              "(10000, 32, 32, 3)"
            ]
          },
          "execution_count": 8,
          "metadata": {},
          "output_type": "execute_result"
        }
      ],
      "source": [
        "X_test.shape"
      ]
    },
    {
      "cell_type": "markdown",
      "metadata": {
        "id": "qRkBFfTRNFgE"
      },
      "source": [
        "**Scale the Values to be in range of 0 to 1:**"
      ]
    },
    {
      "cell_type": "code",
      "execution_count": null,
      "metadata": {
        "id": "cWvhH5LZLaIz"
      },
      "outputs": [],
      "source": [
        "X_train_scale=X_train/255\n",
        "X_test_scale=X_test/255"
      ]
    },
    {
      "cell_type": "code",
      "execution_count": null,
      "metadata": {
        "id": "vTqw91XwLoPm"
      },
      "outputs": [],
      "source": [
        "nO_of_train_images,l,w,c=X_train.shape"
      ]
    },
    {
      "cell_type": "markdown",
      "metadata": {
        "id": "AuIjKciKNO75"
      },
      "source": [
        " **Reshape the Images: image shape(32,32,3) is reshaped to(32*32*3,)** "
      ]
    },
    {
      "cell_type": "code",
      "execution_count": null,
      "metadata": {
        "id": "ejSy4qf3L3j7"
      },
      "outputs": [],
      "source": [
        "X_train_reshaped=X_train_scale.reshape(len(X_train_scale),l*w*c)\n",
        "X_test_reshaped=X_test_scale.reshape(len(X_test_scale),l*w*c)"
      ]
    },
    {
      "cell_type": "markdown",
      "metadata": {
        "id": "nLs51UrAMgp3"
      },
      "source": [
        ""
      ]
    },
    {
      "cell_type": "code",
      "execution_count": null,
      "metadata": {
        "colab": {
          "base_uri": "https://localhost:8080/"
        },
        "id": "y9y9h7bBMNZS",
        "outputId": "eb2c82d7-9ad6-4cc2-e433-998f61a586d2"
      },
      "outputs": [
        {
          "data": {
            "text/plain": [
              "(50000, 3072)"
            ]
          },
          "execution_count": 12,
          "metadata": {},
          "output_type": "execute_result"
        }
      ],
      "source": [
        "X_train_reshaped.shape"
      ]
    },
    {
      "cell_type": "code",
      "execution_count": null,
      "metadata": {
        "colab": {
          "base_uri": "https://localhost:8080/"
        },
        "id": "L3FZXSBvMSRt",
        "outputId": "4901e787-dd84-4a82-c6bf-b46764f84c46"
      },
      "outputs": [
        {
          "data": {
            "text/plain": [
              "(10000, 3072)"
            ]
          },
          "execution_count": 13,
          "metadata": {},
          "output_type": "execute_result"
        }
      ],
      "source": [
        "X_test_reshaped.shape"
      ]
    },
    {
      "cell_type": "code",
      "execution_count": null,
      "metadata": {
        "id": "Hj2I2esvNnW8"
      },
      "outputs": [],
      "source": [
        "y_train_categorical=keras.utils.to_categorical(\n",
        "    y_train,num_classes=10,dtype=\"float32\"\n",
        ")"
      ]
    },
    {
      "cell_type": "code",
      "execution_count": null,
      "metadata": {
        "id": "dN1u3nl8Ohqf"
      },
      "outputs": [],
      "source": [
        "y_test_categorical=keras.utils.to_categorical(\n",
        "    y_test,num_classes=10,dtype=\"float32\"\n",
        ")"
      ]
    },
    {
      "cell_type": "code",
      "execution_count": null,
      "metadata": {
        "colab": {
          "base_uri": "https://localhost:8080/"
        },
        "id": "PIH9DkYQOmOc",
        "outputId": "d3f51be3-4c09-4808-bc75-0ca57ed8d1c8"
      },
      "outputs": [
        {
          "data": {
            "text/plain": [
              "array([[0., 0., 0., 1., 0., 0., 0., 0., 0., 0.],\n",
              "       [0., 0., 0., 0., 0., 0., 0., 0., 1., 0.],\n",
              "       [0., 0., 0., 0., 0., 0., 0., 0., 1., 0.],\n",
              "       [1., 0., 0., 0., 0., 0., 0., 0., 0., 0.],\n",
              "       [0., 0., 0., 0., 0., 0., 1., 0., 0., 0.]], dtype=float32)"
            ]
          },
          "execution_count": 16,
          "metadata": {},
          "output_type": "execute_result"
        }
      ],
      "source": [
        "y_test_categorical[:5]"
      ]
    },
    {
      "cell_type": "code",
      "execution_count": null,
      "metadata": {
        "id": "3smMJToxOpxh"
      },
      "outputs": [],
      "source": [
        "model=keras.Sequential([\n",
        "      tf.keras.layers.Dense(3000,input_shape=(3072,),activation=\"relu\"),                  \n",
        "      tf.keras.layers.Dense(1000,activation=\"relu\"),                  \n",
        "      tf.keras.layers.Dense(10,activation=\"sigmoid\")\n",
        "])"
      ]
    },
    {
      "cell_type": "code",
      "execution_count": null,
      "metadata": {
        "colab": {
          "background_save": true,
          "base_uri": "https://localhost:8080/"
        },
        "id": "gyww6TOzPbKr",
        "outputId": "f04a5560-58df-4638-bb5e-44681530ff03"
      },
      "outputs": [
        {
          "name": "stdout",
          "output_type": "stream",
          "text": [
            "Epoch 1/10\n",
            "1563/1563 [==============================] - 123s 79ms/step - loss: 1.8899 - accuracy: 0.3255\n",
            "Epoch 2/10\n",
            "1563/1563 [==============================] - 121s 77ms/step - loss: 1.6653 - accuracy: 0.4036\n",
            "Epoch 3/10\n",
            "1563/1563 [==============================] - 120s 77ms/step - loss: 1.5848 - accuracy: 0.4318\n",
            "Epoch 4/10\n",
            "1563/1563 [==============================] - 120s 77ms/step - loss: 1.5327 - accuracy: 0.4494\n",
            "Epoch 5/10\n",
            "1563/1563 [==============================] - 120s 77ms/step - loss: 1.4935 - accuracy: 0.4657\n",
            "Epoch 6/10\n",
            "1563/1563 [==============================] - 119s 76ms/step - loss: 1.4560 - accuracy: 0.4803\n",
            "Epoch 7/10\n",
            "1563/1563 [==============================] - 120s 77ms/step - loss: 1.4278 - accuracy: 0.4885\n",
            "Epoch 8/10\n",
            "1563/1563 [==============================] - 120s 77ms/step - loss: 1.4067 - accuracy: 0.4988\n",
            "Epoch 9/10\n",
            "1563/1563 [==============================] - 120s 77ms/step - loss: 1.3824 - accuracy: 0.5081\n",
            "Epoch 10/10\n",
            "1563/1563 [==============================] - 120s 77ms/step - loss: 1.3635 - accuracy: 0.5120\n"
          ]
        },
        {
          "data": {
            "text/plain": [
              "<keras.callbacks.History at 0x7fa74c7556d0>"
            ]
          },
          "execution_count": null,
          "metadata": {},
          "output_type": "execute_result"
        }
      ],
      "source": [
        "model.compile(optimizer=\"adam\",loss=\"categorical_crossentropy\",metrics=[\"accuracy\"])\n",
        "model.fit(X_train_reshaped,y_train_categorical,epochs=10)"
      ]
    },
    {
      "cell_type": "code",
      "execution_count": null,
      "metadata": {
        "id": "GrJkJ0vUePiQ"
      },
      "outputs": [],
      "source": [
        "model.evaluate(X_test_reshaped,y_test_categorical)"
      ]
    },
    {
      "cell_type": "code",
      "execution_count": null,
      "metadata": {
        "id": "4x2QREEVe5FY"
      },
      "outputs": [],
      "source": [
        "ypred=model.predict(X_test_reshaped)"
      ]
    },
    {
      "cell_type": "code",
      "execution_count": null,
      "metadata": {
        "id": "Y3MqwKnkfBXz"
      },
      "outputs": [],
      "source": [
        "\n",
        "y_pred_val=numpy.argmax(ypred)"
      ]
    },
    {
      "cell_type": "code",
      "execution_count": null,
      "metadata": {
        "id": "pL7KT3z3fQrn"
      },
      "outputs": [],
      "source": [
        "y_pred_val.shape"
      ]
    }
  ],
  "metadata": {
    "accelerator": "GPU",
    "colab": {
      "name": "CIFAR.ipynb",
      "provenance": [],
      "authorship_tag": "ABX9TyNgqxV097y2apFPQ6JrL7jQ",
      "include_colab_link": true
    },
    "kernelspec": {
      "display_name": "Python 3",
      "name": "python3"
    },
    "language_info": {
      "name": "python"
    }
  },
  "nbformat": 4,
  "nbformat_minor": 0
}